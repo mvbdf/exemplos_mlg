{
 "cells": [
  {
   "cell_type": "markdown",
   "metadata": {},
   "source": [
    "# Modelo linear generalizado - Distribuição binomial\n",
    "\n",
    "Adaptado de http://wiki.icmc.usp.br/images/6/69/Exemplo-binomial-2023.pdf\n",
    "\n",
    "Um modelo binomial com função de ligação canônica é ajustado aos dados do Exemplo 5, pag. 16 do\n",
    "livro Demétrio, C. G. B. (2002), Modelos Lineares Generalizados em Experimentação Agronômica, ESALQ\n",
    "(https://docs.ufpr.br/~niveam/micro%20da%20sala/bom/Apostila%20de%20MLG.pdf).\n",
    "\n",
    "O modelo relaciona a probabilidade de que um inseto (pulgão) morra com a dose do inseticida (rotenone).\n",
    "Para cada dose foram utilizados m insetos no experimento dos quais y morreram após um certo tempo de\n",
    "exposição ao inseticida. Seis doses diferentes foram testadas. Esse tipo de estudo é conhecido como ensaio\n",
    "dose-resposta.\n",
    "\n",
    "A linguagem Python é utilizada no exemplo."
   ]
  },
  {
   "cell_type": "code",
   "execution_count": 1,
   "metadata": {},
   "outputs": [],
   "source": [
    "import numpy as np\n",
    "import matplotlib.pyplot as plt\n",
    "import seaborn as sns\n",
    "\n",
    "import statsmodels.api as sm\n",
    "from scipy.stats import logistic\n",
    "from scipy.stats import norm"
   ]
  },
  {
   "cell_type": "code",
   "execution_count": 2,
   "metadata": {},
   "outputs": [],
   "source": [
    "dose = np.array([10.2, 7.7, 5.1, 3.8, 2.6, 0.0])\n",
    "m = np.array([50, 49, 46, 48, 50, 49])\n",
    "y = np.array([44, 42, 24, 16, 6, 0])\n",
    "resposta = np.column_stack((y, m - y))\n",
    "pmortos = y / m"
   ]
  },
  {
   "cell_type": "markdown",
   "metadata": {},
   "source": [
    "O objeto resposta representa a variável resposta e tem duas colunas: número de insetos mortos e número de\n",
    "insetos sobreviventes. O número de insetos no estudo foi"
   ]
  },
  {
   "cell_type": "code",
   "execution_count": 3,
   "metadata": {},
   "outputs": [
    {
     "data": {
      "text/plain": [
       "292"
      ]
     },
     "execution_count": 3,
     "metadata": {},
     "output_type": "execute_result"
    }
   ],
   "source": [
    "np.sum(m)"
   ]
  },
  {
   "cell_type": "markdown",
   "metadata": {},
   "source": [
    "Os dados neste exemplo estão na forma agregada. Na forma bruta terîamos um vetor de respostas binárias\n",
    "$y$ (292 × 1) e um vetor $x$ (292 × 1) com os valores das doses, sendo que 10,2 estaria repetido 50 vezes, . . . ,\n",
    "0,0 estaria repetido 49 vezes."
   ]
  },
  {
   "cell_type": "code",
   "execution_count": 4,
   "metadata": {},
   "outputs": [
    {
     "data": {
      "image/png": "[encoded data removed]",
      "text/plain": [
       "<Figure size 640x480 with 1 Axes>"
      ]
     },
     "metadata": {},
     "output_type": "display_data"
    }
   ],
   "source": [
    "sns.scatterplot(x=dose, y=pmortos)\n",
    "plt.xlabel(\"Dose\")\n",
    "plt.ylabel(\"Proporção de insetos mortos\")\n",
    "plt.show()"
   ]
  },
  {
   "cell_type": "code",
   "execution_count": 5,
   "metadata": {},
   "outputs": [
    {
     "data": {
      "text/html": [
       "<table class=\"simpletable\">\n",
       "<caption>Generalized Linear Model Regression Results</caption>\n",
       "<tr>\n",
       "  <th>Dep. Variable:</th>     <td>['y1', 'y2']</td>   <th>  No. Observations:  </th>  <td>     6</td> \n",
       "</tr>\n",
       "<tr>\n",
       "  <th>Model:</th>                  <td>GLM</td>       <th>  Df Residuals:      </th>  <td>     4</td> \n",
       "</tr>\n",
       "<tr>\n",
       "  <th>Model Family:</th>        <td>Binomial</td>     <th>  Df Model:          </th>  <td>     1</td> \n",
       "</tr>\n",
       "<tr>\n",
       "  <th>Link Function:</th>         <td>Logit</td>      <th>  Scale:             </th> <td>  1.0000</td>\n",
       "</tr>\n",
       "<tr>\n",
       "  <th>Method:</th>                <td>IRLS</td>       <th>  Log-Likelihood:    </th> <td> -14.739</td>\n",
       "</tr>\n",
       "<tr>\n",
       "  <th>Date:</th>            <td>Sat, 09 Sep 2023</td> <th>  Deviance:          </th> <td>  10.258</td>\n",
       "</tr>\n",
       "<tr>\n",
       "  <th>Time:</th>                <td>11:43:37</td>     <th>  Pearson chi2:      </th>  <td>  9.70</td> \n",
       "</tr>\n",
       "<tr>\n",
       "  <th>No. Iterations:</th>          <td>5</td>        <th>  Pseudo R-squ. (CS):</th>  <td> 1.000</td> \n",
       "</tr>\n",
       "<tr>\n",
       "  <th>Covariance Type:</th>     <td>nonrobust</td>    <th>                     </th>     <td> </td>   \n",
       "</tr>\n",
       "</table>\n",
       "<table class=\"simpletable\">\n",
       "<tr>\n",
       "    <td></td>       <th>coef</th>     <th>std err</th>      <th>z</th>      <th>P>|z|</th>  <th>[0.025</th>    <th>0.975]</th>  \n",
       "</tr>\n",
       "<tr>\n",
       "  <th>const</th> <td>   -3.2257</td> <td>    0.370</td> <td>   -8.720</td> <td> 0.000</td> <td>   -3.951</td> <td>   -2.501</td>\n",
       "</tr>\n",
       "<tr>\n",
       "  <th>x1</th>    <td>    0.6051</td> <td>    0.068</td> <td>    8.924</td> <td> 0.000</td> <td>    0.472</td> <td>    0.738</td>\n",
       "</tr>\n",
       "</table>"
      ],
      "text/latex": [
       "\\begin{center}\n",
       "\\begin{tabular}{lclc}\n",
       "\\toprule\n",
       "\\textbf{Dep. Variable:}   &   ['y1', 'y2']   & \\textbf{  No. Observations:  } &        6    \\\\\n",
       "\\textbf{Model:}           &       GLM        & \\textbf{  Df Residuals:      } &        4    \\\\\n",
       "\\textbf{Model Family:}    &     Binomial     & \\textbf{  Df Model:          } &        1    \\\\\n",
       "\\textbf{Link Function:}   &      Logit       & \\textbf{  Scale:             } &    1.0000   \\\\\n",
       "\\textbf{Method:}          &       IRLS       & \\textbf{  Log-Likelihood:    } &   -14.739   \\\\\n",
       "\\textbf{Date:}            & Sat, 09 Sep 2023 & \\textbf{  Deviance:          } &    10.258   \\\\\n",
       "\\textbf{Time:}            &     11:43:37     & \\textbf{  Pearson chi2:      } &     9.70    \\\\\n",
       "\\textbf{No. Iterations:}  &        5         & \\textbf{  Pseudo R-squ. (CS):} &    1.000    \\\\\n",
       "\\textbf{Covariance Type:} &    nonrobust     & \\textbf{                     } &             \\\\\n",
       "\\bottomrule\n",
       "\\end{tabular}\n",
       "\\begin{tabular}{lcccccc}\n",
       "               & \\textbf{coef} & \\textbf{std err} & \\textbf{z} & \\textbf{P$> |$z$|$} & \\textbf{[0.025} & \\textbf{0.975]}  \\\\\n",
       "\\midrule\n",
       "\\textbf{const} &      -3.2257  &        0.370     &    -8.720  &         0.000        &       -3.951    &       -2.501     \\\\\n",
       "\\textbf{x1}    &       0.6051  &        0.068     &     8.924  &         0.000        &        0.472    &        0.738     \\\\\n",
       "\\bottomrule\n",
       "\\end{tabular}\n",
       "%\\caption{Generalized Linear Model Regression Results}\n",
       "\\end{center}"
      ],
      "text/plain": [
       "<class 'statsmodels.iolib.summary.Summary'>\n",
       "\"\"\"\n",
       "                 Generalized Linear Model Regression Results                  \n",
       "==============================================================================\n",
       "Dep. Variable:           ['y1', 'y2']   No. Observations:                    6\n",
       "Model:                            GLM   Df Residuals:                        4\n",
       "Model Family:                Binomial   Df Model:                            1\n",
       "Link Function:                  Logit   Scale:                          1.0000\n",
       "Method:                          IRLS   Log-Likelihood:                -14.739\n",
       "Date:                Sat, 09 Sep 2023   Deviance:                       10.258\n",
       "Time:                        11:43:37   Pearson chi2:                     9.70\n",
       "No. Iterations:                     5   Pseudo R-squ. (CS):              1.000\n",
       "Covariance Type:            nonrobust                                         \n",
       "==============================================================================\n",
       "                 coef    std err          z      P>|z|      [0.025      0.975]\n",
       "------------------------------------------------------------------------------\n",
       "const         -3.2257      0.370     -8.720      0.000      -3.951      -2.501\n",
       "x1             0.6051      0.068      8.924      0.000       0.472       0.738\n",
       "==============================================================================\n",
       "\"\"\""
      ]
     },
     "execution_count": 5,
     "metadata": {},
     "output_type": "execute_result"
    }
   ],
   "source": [
    "model = sm.GLM(resposta, sm.add_constant(dose), family=sm.families.Binomial())\n",
    "mcan = model.fit()\n",
    "mcan.summary()"
   ]
  },
  {
   "cell_type": "markdown",
   "metadata": {},
   "source": [
    "O objeto *mcan* contém diversos resultados do ajuste"
   ]
  },
  {
   "cell_type": "code",
   "execution_count": 6,
   "metadata": {},
   "outputs": [
    {
     "name": "stdout",
     "output_type": "stream",
     "text": [
      "\n",
      "    Class to contain GLM results.\n",
      "\n",
      "    GLMResults inherits from statsmodels.LikelihoodModelResults\n",
      "\n",
      "    Attributes\n",
      "    ----------\n",
      "    df_model : float\n",
      "        See GLM.df_model\n",
      "    df_resid : float\n",
      "        See GLM.df_resid\n",
      "    fit_history : dict\n",
      "        Contains information about the iterations. Its keys are `iterations`,\n",
      "        `deviance` and `params`.\n",
      "    model : class instance\n",
      "        Pointer to GLM model instance that called fit.\n",
      "    nobs : float\n",
      "        The number of observations n.\n",
      "    normalized_cov_params : ndarray\n",
      "        See GLM docstring\n",
      "    params : ndarray\n",
      "        The coefficients of the fitted model.  Note that interpretation\n",
      "        of the coefficients often depends on the distribution family and the\n",
      "        data.\n",
      "    pvalues : ndarray\n",
      "        The two-tailed p-values for the parameters.\n",
      "    scale : float\n",
      "        The estimate of the scale / dispersion for the model fit.\n",
      "        See GLM.fit and GLM.estimate_scale for more information.\n",
      "    stand_errors : ndarray\n",
      "        The standard errors of the fitted GLM.   #TODO still named bse\n",
      "\n",
      "    See Also\n",
      "    --------\n",
      "    statsmodels.base.model.LikelihoodModelResults\n",
      "    \n"
     ]
    }
   ],
   "source": [
    "print(mcan.__dict__['__doc__'])"
   ]
  },
  {
   "cell_type": "markdown",
   "metadata": {},
   "source": [
    "As proporções de insetos mortos e o modelo ajustado são mostrados na figura abaixo"
   ]
  },
  {
   "cell_type": "code",
   "execution_count": 7,
   "metadata": {},
   "outputs": [
    {
     "data": {
      "image/png": "[encoded data removed]",
      "text/plain": [
       "<Figure size 640x480 with 1 Axes>"
      ]
     },
     "metadata": {},
     "output_type": "display_data"
    }
   ],
   "source": [
    "b1 = mcan.params[0]\n",
    "b2 = mcan.params[1]\n",
    "\n",
    "X = np.linspace(dose.min(), dose.max(), 100)\n",
    "\n",
    "sns.scatterplot(x=dose, y=pmortos)\n",
    "plt.xlabel(\"Dose\")\n",
    "plt.ylabel(\"Proporção de insetos mortos\")\n",
    "sns.lineplot(x=X, y=logistic.cdf(b1 + b2*X), color=\"red\")\n",
    "plt.show()"
   ]
  },
  {
   "cell_type": "code",
   "execution_count": 8,
   "metadata": {},
   "outputs": [],
   "source": [
    "## Intervalos de confiança assintóticos\n",
    "# Aproximação pela dist. normal inclusa no resumo do modelo\n",
    "\n",
    "# Intervalos de confiança (veros. perfilada)\n",
    "# (por fazer)"
   ]
  },
  {
   "cell_type": "markdown",
   "metadata": {},
   "source": [
    "## Funções de ligação\n",
    "As funções de ligação logito (regressão logística), probito e complemento log-log são bastante utilizadas no\n",
    "modelo binomial. As expressões são dadas abaixo, sendo que $\\eta = x > \\beta \\in R$ é o preditor linear, $\\pi = \\mu / m$ e $\\Phi$ denota a função distribuição acumulada da distribuição normal $(0, 1)$.\n",
    "\n",
    "$$\\log\\left(\\frac{\\pi}{1-\\pi}\\right) = \\eta, \\quad \\pi = \\frac{e^\\eta}{1 + e^\\eta}: \\quad \\text{logito},\\tag{1}$$\n",
    "\n",
    "$$\\Phi^{-1} \\left(\\pi\\right) = \\eta, \\quad \\pi = \\Phi \\left(\\eta\\right): \\quad \\text{probito},\\tag{2}$$\n",
    "\n",
    "$$\\log\\left(-\\log\\left(1-\\pi\\right)\\right) = \\eta, \\quad \\pi = 1- \\exp\\left(-\\exp\\left(\\eta\\right)\\right): \\quad \\text{complemento log-log}.\\tag{3}$$\n",
    "\n",
    "As funções de ligação logito e probito são simétricas, significando que $\\pi\\left(\\eta\\right) = 1 - \\pi\\left(-\\eta\\right)$ para todo $\\eta \\in \\mathbb{R}$. Com a função de ligação complemento log-log, temos $\\pi\\left(\\eta\\right) \\geq 1 - \\pi\\left(-\\eta\\right)$ para todo $\\eta > 0$."
   ]
  },
  {
   "cell_type": "code",
   "execution_count": 9,
   "metadata": {},
   "outputs": [
    {
     "data": {
      "image/png": "[encoded data removed]",
      "text/plain": [
       "<Figure size 640x480 with 1 Axes>"
      ]
     },
     "metadata": {},
     "output_type": "display_data"
    }
   ],
   "source": [
    "## Inversa das funções de ligação\n",
    "# Complemento log-log (Clog-log)\n",
    "def ploglog(x):\n",
    "    return(1 - np.exp(-np.exp(x)))\n",
    "\n",
    "X = np.linspace(-4, 4, 50)\n",
    "\n",
    "sns.lineplot(x=X, y=logistic.cdf(X), color=\"black\", label=\"Logito\")\n",
    "sns.lineplot(x=X, y=norm.cdf(X), color=\"blue\", label=\"Probito\")\n",
    "sns.lineplot(x=X, y=ploglog(X), color=\"red\", label=\"Clog-log\")\n",
    "plt.axvline(x=0, color='black', linestyle='--', linewidth=1)\n",
    "plt.xlabel(r\"$\\eta$\")\n",
    "plt.ylabel(r\"$\\pi\\left(\\eta\\right)$\")\n",
    "plt.show()"
   ]
  },
  {
   "cell_type": "markdown",
   "metadata": {},
   "source": [
    "**Nota 1**. Modelos com as funções de ligação probito e complemento log-log são ajustados com os comandos\n",
    "abaixo."
   ]
  },
  {
   "cell_type": "code",
   "execution_count": 10,
   "metadata": {},
   "outputs": [],
   "source": [
    "mprob = sm.GLM(resposta, sm.add_constant(dose), family=sm.families.Binomial(link=sm.families.links.Probit()))\n",
    "mloglog = sm.GLM(resposta, sm.add_constant(dose), family=sm.families.Binomial(link=sm.families.links.CLogLog()))"
   ]
  },
  {
   "cell_type": "markdown",
   "metadata": {},
   "source": [
    "## Razão de chances\n",
    "\n",
    "Se $\\pi$ denota a probabilidade de um evento occorrer, $C = \\pi / (1 − \\pi)$ é a chance (*odds*) de que o evento ocorra, notando que $C$ é uma função monótona crescente em $\\pi$. Para as funções de ligação nas expressões acima, obtemos\n",
    "\n",
    "$$C = \\frac{\\frac{e^{\\eta}}{1 + e^{\\eta}}}{1 − \\frac{e^{\\eta}}{1 + e^{\\eta}}} = e^{\\eta}\\tag{4}$$\n",
    "$$C = \\frac{\\Phi(\\eta)}{1 − \\Phi(\\eta)} \\quad \\text{e}$$\n",
    "$$C = \\frac{1 − \\exp ( − \\exp(−\\eta))}{\\exp ( − \\exp(−\\eta))}.$$\n",
    "\n",
    "Considere $x_2 \\neq x_1$ (de modo que $\\eta_2 = x_2^T\\beta \\neq \\eta_1 = x_1^T \\beta$) com chances $C_2$ e $C_1$. A razão de chances (*odds ratio*) é dada por $RC = C_2/C_1$. Tomando a função de ligação logito, da expressão (4) resulta\n",
    "\n",
    "$$RC = \\frac{e^{\\eta_2}}{e^{\\eta_1}} = e^{{\\eta_2}−{\\eta_1}} = \\exp \\left(\\left(x_2 − x_1\\right)^T\\beta\\right). \\tag{5}$$\n",
    "\n",
    "Retornando ao modelo binomial, temos $Y \\sim \\text{binomial}\\left(m, \\pi\\right)$ e $E(Y) = \\mu = m\\pi$. De acordo com o modelo e usando a função de ligação logito dada por (1), temos que\n",
    "\n",
    "$$\\log\\left(\\frac{\\mu}{m-\\mu}\\right) = \\log\\left(\\frac{\\pi}{1-\\pi}\\right) = \\beta_1 + \\beta_1\\cdot dose. \\tag{6}$$\n",
    "\n",
    "O lado esquerdo de (6) é chamado de logito da probabilidade $\\pi$, que é representado por uma função linear dos coeficientes $\\beta.$\n",
    "\n",
    "Em seguida comparamos dois valores de doses, dose1 e dose2, sendo que $dose_2 = dose_1 + 1$. Logo, $x_1 = (1, dose_1)^T$, $x_2 = (1, dose_2)^T = (1, dose_1 + 1)^T$ e $x_2 − x_1 = (0, 1)^T$. A partir de (5) obtemos\n",
    "\n",
    "$$RC = \\exp\\left(\\left(0,1\\right)\\beta\\right) = \\exp\\left(0\\cdot \\beta_1 + 1\\cdot \\beta_2\\right) = e^{\\beta_2}.$$\n",
    "\n",
    "Portanto, a chance de um inseto morrer é multiplicada por $e^{\\beta_2}$ quando a dose é aumentada em uma unidade, qualquer que seja a dose. Desta forma, o coeficiente da variável $dose \\left(\\beta_2\\right)$ tem um interpretação.\n",
    "\n",
    "Em um modelo com mais de uma covariável ($p > 2$), a interpretação de cada coeficiente $\\beta_j, j\\neq 1$, é semelhante tomando-se a covariável $x_j$ acrescida de uma unidade $\\left(x_j+1\\right)$ e mantendo-se constantes os valores de todas as demais covariáveis.\n"
   ]
  },
  {
   "cell_type": "code",
   "execution_count": 11,
   "metadata": {},
   "outputs": [
    {
     "name": "stdout",
     "output_type": "stream",
     "text": [
      "Razão de chances: 1.8314821473864786\n"
     ]
    }
   ],
   "source": [
    "print(f\"Razão de chances: {np.exp(b2)}\")"
   ]
  },
  {
   "cell_type": "markdown",
   "metadata": {},
   "source": [
    "**Nota 2.** Apresente um intervalo de confiança para a razão de chances."
   ]
  },
  {
   "cell_type": "markdown",
   "metadata": {},
   "source": [
    "## Dose letal\n",
    "\n",
    "É de interesse estimar as doses de inseticida que eliminam $50\\%$ e $90\\%$ dos insetos, denotadas por $DL_{50}$ e $DL_{90}$, respectivamente. Segue de (6) que\n",
    "\n",
    "$$dose = \\frac{\\log\\left(\\frac{\\pi}{1-\\pi}\\right)-\\beta_1}{\\beta_2} \\tag{7}$$\n",
    "\n",
    "Da expressão (7) obtemos\n",
    "\n",
    "$$DL_{50} = \\frac{\\log\\left(\\frac{0.5}{1-0.5}\\right)-\\beta_1}{\\beta_2} = -\\frac{\\beta_1}{\\beta_2} \\tag{8}$$\n",
    "\n",
    "e\n",
    "\n",
    "$$DL_{90} = \\frac{\\log\\left(\\frac{0.9}{1-0.9}\\right)-\\beta_1}{\\beta_2} = \\frac{2.20 - \\beta_1}{\\beta_2} \\tag{8}$$"
   ]
  },
  {
   "cell_type": "code",
   "execution_count": 12,
   "metadata": {},
   "outputs": [
    {
     "name": "stdout",
     "output_type": "stream",
     "text": [
      "DL50 e DL90 = [5.33056864 8.96159126]\n"
     ]
    }
   ],
   "source": [
    "def DL(prob):\n",
    "    return((np.log(prob/(1-prob)) - b1) / b2)\n",
    "\n",
    "print(f\"DL50 e DL90 = {DL(np.array([0.5, 0.9]))}\")"
   ]
  },
  {
   "cell_type": "markdown",
   "metadata": {},
   "source": [
    "Aplicamos o método delta para obter um intervalo de confiança de $95\\%$ para a dose leta. Calculamos\n",
    "\n",
    "$$\\frac{\\partial}{\\partial\\beta} DL = \\left(-\\frac{1}{\\beta_2}, -\\frac{\\log\\left(\\frac{\\pi}{1-\\pi}\\right)-\\beta_1}{\\beta_2^2}\\right)^T = -\\frac{1}{\\beta_2} \\left(1,DL\\right)^T$$\n",
    "\n",
    "e\n",
    "\n",
    "$$cov\\left(DL\\right) = \\frac{\\partial}{\\partial\\beta^T} DL \\cdot \\text{cov}\\left(\\widehat{\\beta}\\right) \\cdot \\frac{\\partial}{\\partial\\beta} DL,$$\n",
    "\n",
    "sendo que um estimador de $\\text{cov}\\left(\\widehat{\\beta}\\right)$ é dado pelo método *cov_params*."
   ]
  },
  {
   "cell_type": "code",
   "execution_count": 13,
   "metadata": {},
   "outputs": [
    {
     "name": "stdout",
     "output_type": "stream",
     "text": [
      "IC DL50: [4.809177606853541, 5.85195968088946]\n"
     ]
    }
   ],
   "source": [
    "# IC de 95% para DL50 (método delta)\n",
    "pDL = 0.5\n",
    "derivDL = np.array([1, DL(pDL)]) / b2\n",
    "epDL = np.sqrt(np.transpose(derivDL) @ mcan.cov_params() @ derivDL)\n",
    "z = norm.ppf((1+0.95)/2)\n",
    "\n",
    "print(f\"IC DL{100*pDL:g}: {[DL(pDL) - z*epDL, DL(pDL) + z*epDL]}\")"
   ]
  },
  {
   "cell_type": "markdown",
   "metadata": {},
   "source": [
    "**Nota 3.** Refaça o exemplo em linguagem Julia."
   ]
  }
 ],
 "metadata": {
  "kernelspec": {
   "display_name": "Python 3",
   "language": "python",
   "name": "python3"
  },
  "language_info": {
   "codemirror_mode": {
    "name": "ipython",
    "version": 3
   },
   "file_extension": ".py",
   "mimetype": "text/x-python",
   "name": "python",
   "nbconvert_exporter": "python",
   "pygments_lexer": "ipython3",
   "version": "3.11.4"
  },
  "orig_nbformat": 4
 },
 "nbformat": 4,
 "nbformat_minor": 2
}
